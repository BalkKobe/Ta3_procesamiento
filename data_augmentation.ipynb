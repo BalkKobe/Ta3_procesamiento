{
 "cells": [
  {
   "cell_type": "code",
   "execution_count": 5,
   "metadata": {},
   "outputs": [],
   "source": [
    "import os\n",
    "import Augmentor\n",
    "from skimage import io"
   ]
  },
  {
   "cell_type": "code",
   "execution_count": 9,
   "metadata": {},
   "outputs": [
    {
     "name": "stdout",
     "output_type": "stream",
     "text": [
      "Initialised with 17 image(s) found.\n",
      "Output directory set to Katakana A\\Katakana A."
     ]
    },
    {
     "name": "stderr",
     "output_type": "stream",
     "text": [
      "Processing <PIL.Image.Image image mode=RGBA size=200x200 at 0x201F961D110>: 100%|██████████| 200/200 [00:00<00:00, 644.57 Samples/s]                \n"
     ]
    }
   ],
   "source": [
    "directorio_originales = \"Katakana A\"\n",
    "directorio_aumentadas = \"Katakana A\"\n",
    "\n",
    "\n",
    "if not os.path.exists(directorio_aumentadas):\n",
    "    os.makedirs(directorio_aumentadas)\n",
    "\n",
    "\n",
    "p = Augmentor.Pipeline(source_directory=directorio_originales, output_directory=directorio_aumentadas)\n",
    "\n",
    "p.zoom_random(probability=0.98, percentage_area=0.99)\n",
    "\n",
    "\n",
    "num_imagenes_aumentadas = 200  \n",
    "\n",
    "\n",
    "p.sample(num_imagenes_aumentadas)"
   ]
  },
  {
   "cell_type": "code",
   "execution_count": 10,
   "metadata": {},
   "outputs": [
    {
     "name": "stdout",
     "output_type": "stream",
     "text": [
      "Initialised with 12 image(s) found.\n",
      "Output directory set to Katakana E\\Katakana E."
     ]
    },
    {
     "name": "stderr",
     "output_type": "stream",
     "text": [
      "Processing <PIL.Image.Image image mode=RGBA size=200x200 at 0x201F95995D0>: 100%|██████████| 200/200 [00:00<00:00, 689.03 Samples/s]                \n"
     ]
    }
   ],
   "source": [
    "directorio_originales = \"Katakana E\"\n",
    "directorio_aumentadas = \"Katakana E\"\n",
    "\n",
    "\n",
    "if not os.path.exists(directorio_aumentadas):\n",
    "    os.makedirs(directorio_aumentadas)\n",
    "\n",
    "\n",
    "p = Augmentor.Pipeline(source_directory=directorio_originales, output_directory=directorio_aumentadas)\n",
    "\n",
    "p.zoom_random(probability=0.98, percentage_area=0.99)\n",
    "\n",
    "\n",
    "num_imagenes_aumentadas = 200  \n",
    "\n",
    "\n",
    "p.sample(num_imagenes_aumentadas)"
   ]
  },
  {
   "cell_type": "code",
   "execution_count": 11,
   "metadata": {},
   "outputs": [
    {
     "name": "stdout",
     "output_type": "stream",
     "text": [
      "Initialised with 16 image(s) found.\n",
      "Output directory set to Katakana I\\Katakana I."
     ]
    },
    {
     "name": "stderr",
     "output_type": "stream",
     "text": [
      "Processing <PIL.Image.Image image mode=RGBA size=200x200 at 0x201FB625710>: 100%|██████████| 200/200 [00:00<00:00, 644.57 Samples/s]                \n"
     ]
    }
   ],
   "source": [
    "directorio_originales = \"Katakana I\"\n",
    "directorio_aumentadas = \"Katakana I\"\n",
    "\n",
    "\n",
    "if not os.path.exists(directorio_aumentadas):\n",
    "    os.makedirs(directorio_aumentadas)\n",
    "\n",
    "\n",
    "p = Augmentor.Pipeline(source_directory=directorio_originales, output_directory=directorio_aumentadas)\n",
    "\n",
    "p.zoom_random(probability=0.98, percentage_area=0.99)\n",
    "\n",
    "\n",
    "num_imagenes_aumentadas = 200  \n",
    "\n",
    "\n",
    "p.sample(num_imagenes_aumentadas)"
   ]
  },
  {
   "cell_type": "code",
   "execution_count": 12,
   "metadata": {},
   "outputs": [
    {
     "name": "stdout",
     "output_type": "stream",
     "text": [
      "Initialised with 14 image(s) found.\n",
      "Output directory set to Katakana O\\Katakana O."
     ]
    },
    {
     "name": "stderr",
     "output_type": "stream",
     "text": [
      "Processing <PIL.Image.Image image mode=RGBA size=200x200 at 0x201FFAF0BD0>: 100%|██████████| 200/200 [00:00<00:00, 611.07 Samples/s]                \n"
     ]
    }
   ],
   "source": [
    "directorio_originales = \"Katakana O\"\n",
    "directorio_aumentadas = \"Katakana O\"\n",
    "\n",
    "\n",
    "if not os.path.exists(directorio_aumentadas):\n",
    "    os.makedirs(directorio_aumentadas)\n",
    "\n",
    "\n",
    "p = Augmentor.Pipeline(source_directory=directorio_originales, output_directory=directorio_aumentadas)\n",
    "\n",
    "p.zoom_random(probability=0.98, percentage_area=0.99)\n",
    "\n",
    "\n",
    "num_imagenes_aumentadas = 200  \n",
    "\n",
    "\n",
    "p.sample(num_imagenes_aumentadas)"
   ]
  },
  {
   "cell_type": "code",
   "execution_count": 13,
   "metadata": {},
   "outputs": [
    {
     "name": "stdout",
     "output_type": "stream",
     "text": [
      "Initialised with 13 image(s) found.\n",
      "Output directory set to Katakana U\\Katakana U."
     ]
    },
    {
     "name": "stderr",
     "output_type": "stream",
     "text": [
      "Processing <PIL.Image.Image image mode=RGBA size=200x200 at 0x201F95B7B50>: 100%|██████████| 200/200 [00:00<00:00, 640.44 Samples/s]                \n"
     ]
    }
   ],
   "source": [
    "directorio_originales = \"Katakana U\"\n",
    "directorio_aumentadas = \"Katakana U\"\n",
    "\n",
    "\n",
    "if not os.path.exists(directorio_aumentadas):\n",
    "    os.makedirs(directorio_aumentadas)\n",
    "\n",
    "\n",
    "p = Augmentor.Pipeline(source_directory=directorio_originales, output_directory=directorio_aumentadas)\n",
    "\n",
    "p.zoom_random(probability=0.98, percentage_area=0.99)\n",
    "\n",
    "\n",
    "num_imagenes_aumentadas = 200  \n",
    "\n",
    "\n",
    "p.sample(num_imagenes_aumentadas)"
   ]
  }
 ],
 "metadata": {
  "kernelspec": {
   "display_name": "Python 3",
   "language": "python",
   "name": "python3"
  },
  "language_info": {
   "codemirror_mode": {
    "name": "ipython",
    "version": 3
   },
   "file_extension": ".py",
   "mimetype": "text/x-python",
   "name": "python",
   "nbconvert_exporter": "python",
   "pygments_lexer": "ipython3",
   "version": "3.11.4"
  }
 },
 "nbformat": 4,
 "nbformat_minor": 2
}
